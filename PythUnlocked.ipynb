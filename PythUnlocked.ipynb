{
  "cells": [
    {
      "cell_type": "code",
      "source": [
        "import os                            # Importa a biblioteca os, que permite interagir com o sistema operacional\n",
        "import fitz                          # Importa a biblioteca fitz, que permite trabalhar com PDFs\n",
        "from google.colab import files       # Importa a função files do Google Colab para baixar arquivos\n",
        "\n",
        "input_dir = \"/content/pdf\"            # Define o diretório onde estão os arquivos PDF a serem desbloqueados\n",
        "output_dir = \"/content/unlocked\"      # Define o diretório onde os arquivos PDF desbloqueados serão salvos\n",
        "password = \"suasenha\"                # Define a senha para desbloquear os arquivos PDF\n",
        "\n",
        "if not os.path.exists(output_dir):   # Verifica se a pasta de saída já existe. Se não existir, ela será criada.\n",
        "    os.makedirs(output_dir)\n",
        "\n",
        "for filename in os.listdir(input_dir):   # Para cada arquivo na pasta de entrada, o seguinte será executado:\n",
        "    if not filename.endswith(\".pdf\"):   # Se o arquivo não termina com \".pdf\", ele será ignorado\n",
        "        continue\n",
        "\n",
        "    input_file = os.path.join(input_dir, filename)   # Concatena o diretório de entrada com o nome do arquivo para obter o caminho completo do arquivo de entrada\n",
        "    output_file = os.path.join(output_dir, filename)   # Concatena o diretório de saída com o nome do arquivo para obter o caminho completo do arquivo de saída\n",
        "\n",
        "    try:   # Tenta desbloquear o arquivo PDF\n",
        "        with fitz.open(input_file) as pdf:   # Abre o arquivo PDF com fitz\n",
        "            if pdf.is_encrypted:   # Verifica se o arquivo PDF está criptografado\n",
        "                pdf.authenticate(password)   # Se o arquivo PDF estiver criptografado, tenta autenticar usando a senha especificada\n",
        "            pdf.save(output_file)   # Salva o arquivo PDF desbloqueado no diretório de saída\n",
        "            print(f\"{input_file} successfully unlocked and saved as {output_file}\")   # Exibe uma mensagem informando que o arquivo PDF foi desbloqueado com sucesso\n",
        "    except Exception as e:   # Se ocorrer um erro ao desbloquear o arquivo PDF, o seguinte será executado:\n",
        "        print(f\"Error unlocking {input_file}: {str(e)}\")   # Exibe uma mensagem informando que houve um erro ao desbloquear o arquivo PDF\n",
        "\n",
        "# Cria um arquivo ZIP contendo os arquivos desbloqueados\n",
        "zip_path = os.path.join(\"/content\", \"unlocked.zip\")   # Define o caminho completo do arquivo ZIP a ser criado\n",
        "!zip -r {zip_path} {output_dir}   # Cria o arquivo ZIP com todos os arquivos desbloqueados do diretório de saída\n",
        "\n",
        "# Faz o download do arquivo ZIP\n",
        "files.download(zip_path)   # Baixa o arquivo ZIP para o seu computador, usando a função files do Google Colab\n"
      ],
      "metadata": {
        "id": "kEpD6q0npC0a"
      },
      "execution_count": null,
      "outputs": []
    }
  ],
  "metadata": {
    "colab": {
      "provenance": []
    },
    "kernelspec": {
      "display_name": "Python 3",
      "name": "python3"
    },
    "language_info": {
      "name": "python"
    }
  },
  "nbformat": 4,
  "nbformat_minor": 0
}